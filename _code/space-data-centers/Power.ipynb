{
 "cells": [
  {
   "cell_type": "markdown",
   "metadata": {},
   "source": [
    "  ![](../../assets/imgs/space-data-centers/Rosa-SAW.png)"
   ]
  },
  {
   "cell_type": "markdown",
   "metadata": {},
   "source": [
    "The ISS has solar panels on the port and starboard side, which is why the trusses they are attached to have names like P-6 and S-6. So on the port side, there are 8 solar array wings (abbreviated \"SAW\") and a similar number on the starboard side. When fully extended, each wing is 35 metres (115 ft) in length and 12 metres (39 ft) wide is the largest ever deployed in space, weighing over 2,400 pounds (1,100 kg). Each SAW generates nearly 31 Kilowatts (kW) of direct current power. Altogether, the eight solar array wings can generate about 240 kilowatts in direct sunlight, or about 84 to 120 kilowatts average power (cycling between sunlight and shade).\n",
    "\n",
    "Now, the power density based on wing spans works out to about 71.43 $$W/m^2$$ but each wing is actually made from two photovoltaic blankets. A blanket comprise 16,400 cells; each cell is 8-cm by 8-cm. So the power density of a wing with two blankets is actually 142.9 $$W/m^2$$."
   ]
  },
  {
   "cell_type": "code",
   "execution_count": 1,
   "metadata": {},
   "outputs": [
    {
     "name": "stdout",
     "output_type": "stream",
     "text": [
      "SAW power density: 73.8 W/m²\n",
      "Actual SAW power density: 147.7 W/m²\n",
      "actual collecting area is 209.92000000000002 m²\n",
      "current (pessimistic) packing density for SAW is 19.70839425313288 m²/m³\n",
      "optimistic packing density for SAW is 39.43181014822699 m²/m³\n"
     ]
    }
   ],
   "source": [
    "# Power density of ISS solar arrays (original SAWs)\n",
    "power_per_wing_kw = 31  # Corrected from search results\n",
    "area_per_wing_m2 = 35 * 12  # Actually 35m length, not 34m\n",
    "SAW_theoretical_power_density = power_per_wing_kw * 1000 / area_per_wing_m2\n",
    "print(f'SAW power density: {SAW_theoretical_power_density:.1f} W/m²')  # 73.8 W/m²\n",
    "# Calculate actual cell power density\n",
    "num_cells_per_blanket = 16400 #from wikipedia\n",
    "area_per_cell_m2 = 64*10**-4 #8cm by 8cm = 64cm^2 = 64*10^-4 m^2\n",
    "num_cells_per_wing = 2 * num_cells_per_blanket #each wing has two blankets\n",
    "SAW_real_power_density= power_per_wing_kw * 1000 / (num_cells_per_wing * area_per_cell_m2)\n",
    "deployed_area = area_per_cell_m2 * num_cells_per_wing\n",
    "SAW_stowed_volume = 4.57*4.57*0.51\n",
    "pessimistic_packing_density_SAW = deployed_area / SAW_stowed_volume\n",
    "optimistic_packing_density_SAW = area_per_wing_m2 / (SAW_stowed_volume)\n",
    "print(f'Actual SAW power density: {SAW_real_power_density:.1f} W/m²')  # 147.7 W/m²\n",
    "print('actual collecting area is', num_cells_per_wing * area_per_cell_m2, 'm²')\n",
    "print('current (pessimistic) packing density for SAW is', pessimistic_packing_density_SAW, 'm²/m³')\n",
    "print('optimistic packing density for SAW is', optimistic_packing_density_SAW, 'm²/m³')"
   ]
  },
  {
   "cell_type": "markdown",
   "metadata": {},
   "source": [
    "  # iROSA\n",
    "  \n",
    "  ![](../../assets/imgs/space-data-centers/iRosa.png)"
   ]
  },
  {
   "cell_type": "markdown",
   "metadata": {},
   "source": [
    "The cells attached to the P6 and P4 Trusses, the first arrays launched in 2000 and 2006, began to noticeably degrade towards the end of their 15-year life so ISS Roll Out Solar Arrays (iROSA) were launched in two pairs in June 2021 and November 2022. From [this Wikipedia page](https://en.wikipedia.org/wiki/Integrated_Truss_Structure#Solar_arrays), the sequence of iROSA additions is as follows:\n",
    "- iROSA 1 and 2 was added in front of Old 4B and 2B solar arrays on P6 truss in June 2021;\n",
    "- iROSA 3 and 4 was added in front of Old 3A and 4A solar arrays on S4 and P4 truss in December 2022;\n",
    "- iROSA 5 was added in front of Old 1A solar array on S4 truss in June 2023; and\n",
    "- and iROSA 6 was added in front of Old 1B solar array on S6 truss in June 2023.\n",
    "\n",
    "I have not verified these but Claude corrected the Wikipedia page data. It also told me there are actually 8 planned iROSAs—The final set of iROSAs, the seventh and eighth, are planned to be installed on the 2A and 3B power channels on the P4 and S6 truss segments in 2025."
   ]
  },
  {
   "cell_type": "code",
   "execution_count": 8,
   "metadata": {},
   "outputs": [
    {
     "name": "stdout",
     "output_type": "stream",
     "text": [
      "iROSA power density: 255.0 W/m²\n",
      "ISS ROSA volume: 0.42428571428571427 m^3\n",
      "current (pessimistic) packing density for iROSA is 207.0303030303031 m²/m³\n",
      "optimistic packing density for iROSA is 323.48484848484856 m²/m³\n"
     ]
    }
   ],
   "source": [
    "# iROSA power density analysis\n",
    "irosa_power_kw = 28  # More than 28 kW from search results\n",
    "irosa_deployed_area_m2 = 18.3 * 6  # 19m × 6m = 114 m²\n",
    "irosa_power_density = irosa_power_kw * 1000 / irosa_deployed_area_m2\n",
    "print(f'iROSA power density: {irosa_power_density:.1f} W/m²')  # 245.6 W/m²\n",
    "# packing density\n",
    "canister_radius = 0.15 #m\n",
    "canister_height = 3 #m\n",
    "canister_volume = (22/7 * canister_radius**2 * canister_height)\n",
    "iROSA_stowed_volume = 2*canister_volume\n",
    "pessimistic_packing_density_irosa = 0.8*irosa_deployed_area_m2 / iROSA_stowed_volume\n",
    "optimistic_packing_density_irosa = irosa_deployed_area_m2 / (iROSA_stowed_volume*0.8)\n",
    "print(\"ISS ROSA volume:\", iROSA_stowed_volume, \"m^3\")\n",
    "print('current (pessimistic) packing density for iROSA is', pessimistic_packing_density_irosa, 'm²/m³')\n",
    "print('optimistic packing density for iROSA is', optimistic_packing_density_irosa, 'm²/m³')"
   ]
  },
  {
   "cell_type": "markdown",
   "metadata": {},
   "source": [
    "# Starcloud plans\n"
   ]
  },
  {
   "cell_type": "code",
   "execution_count": 3,
   "metadata": {},
   "outputs": [
    {
     "name": "stdout",
     "output_type": "stream",
     "text": [
      "Solar array power density: 312.5 W/m²\n",
      "Checking intermediate solar array power density: 312.5 W/m²\n",
      "Optimistic intermediate arrays area: 128000.0 m²\n",
      "Desired intermediate packing density: 160.0 m²/m³\n"
     ]
    }
   ],
   "source": [
    "# Long term plans of Starcloud\n",
    "Starcloud_long_term_power = 5*10**9 #W\n",
    "Starcloud_long_term_area = 4000*4000 #m^2\n",
    "Starcloud_envisioned_long_term_power_density = Starcloud_long_term_power / Starcloud_long_term_area\n",
    "print('Solar array power density:', Starcloud_envisioned_long_term_power_density, 'W/m²')\n",
    "\n",
    "# Terrestrial comparison\n",
    "Starcloud_intermediate_power = 40*10**6 #40MW station\n",
    "Starcloud_envisioned_intermediate_deployed_area = Starcloud_intermediate_power / Starcloud_envisioned_long_term_power_density\n",
    "Starcloud_envisioned_intermediate_power_density = Starcloud_intermediate_power / Starcloud_envisioned_intermediate_deployed_area\n",
    "print('Checking intermediate solar array power density:', Starcloud_envisioned_intermediate_power_density, 'W/m²')\n",
    "print('Optimistic intermediate arrays area:', Starcloud_envisioned_intermediate_deployed_area, 'm²')\n",
    "\n",
    "Starship_volume = 1000 #m^3\n",
    "Starcloud_desired_intermediate_packing_density = Starcloud_envisioned_intermediate_deployed_area / (Starship_volume*0.8)\n",
    "print('Desired intermediate packing density:', Starcloud_desired_intermediate_packing_density, 'm²/m³')"
   ]
  },
  {
   "cell_type": "markdown",
   "metadata": {},
   "source": [
    "## Comparing to iROSA"
   ]
  },
  {
   "cell_type": "markdown",
   "metadata": {},
   "source": [
    "So for Starcloud ROSAs to fit in one launch, they would first have to fold up completely into one Starship—let's assume a 98% fill factor. And then they would have to deploy to their full area of 128,000 m²."
   ]
  },
  {
   "cell_type": "code",
   "execution_count": 4,
   "metadata": {},
   "outputs": [
    {
     "name": "stdout",
     "output_type": "stream",
     "text": [
      "Realistic Starcloud arrays area: 156857.14285714287 m²\n",
      "Realistic Starcloud solar array power density: 255.00910746812383 W/m²\n",
      "Realistic intermediate packing density: 174.2857142857143 m²/m³\n"
     ]
    }
   ],
   "source": [
    "# Based on today's ROSA technology\n",
    "Starcloud_realistic_intermediate_deployed_area = Starcloud_intermediate_power / irosa_power_density\n",
    "Starcloud_realistic_intermediate_power_density = Starcloud_intermediate_power / Starcloud_realistic_intermediate_deployed_area\n",
    "Starcloud_realistic_intermediate_packing_density = Starcloud_realistic_intermediate_deployed_area / (Starship_volume*0.9)\n",
    "print('Realistic Starcloud arrays area:', Starcloud_realistic_intermediate_deployed_area, 'm²')\n",
    "print('Realistic Starcloud solar array power density:', Starcloud_realistic_intermediate_power_density, 'W/m²')\n",
    "print('Realistic intermediate packing density:', Starcloud_realistic_intermediate_packing_density, 'm²/m³')"
   ]
  },
  {
   "cell_type": "markdown",
   "metadata": {},
   "source": [
    "# Estimating Launches\n",
    "We can divide the starcloud packing densities by the iROSA and SAW packing densities to compute the different number of launches."
   ]
  },
  {
   "cell_type": "code",
   "execution_count": 5,
   "metadata": {},
   "outputs": [
    {
     "name": "stdout",
     "output_type": "stream",
     "text": [
      "Launches using SAW: 8.118368140243902\n",
      "Launches using iROSA: 0.7728337236533955\n",
      "Launches using SAW: 7.95890019463197\n",
      "Launches using iROSA: 0.7576530612244896\n"
     ]
    }
   ],
   "source": [
    "# Launch numbers\n",
    "launches_using_SAW =  Starcloud_desired_intermediate_packing_density / pessimistic_packing_density_SAW\n",
    "print('Launches using SAW:', launches_using_SAW)\n",
    "\n",
    "launches_using_iROSA =  Starcloud_desired_intermediate_packing_density / pessimistic_packing_density_irosa \n",
    "print('Launches using iROSA:', launches_using_iROSA)\n",
    "\n",
    "\n",
    "# Number of launches using SAW\n",
    "launches_using_SAW = Starcloud_realistic_intermediate_deployed_area / (pessimistic_packing_density_SAW * Starship_volume)\n",
    "print('Launches using SAW:', launches_using_SAW)\n",
    "\n",
    "# Number of launches using iROSA\n",
    "launches_using_iROSA = Starcloud_realistic_intermediate_deployed_area / (pessimistic_packing_density_irosa * Starship_volume)\n",
    "print('Launches using iROSA:', launches_using_iROSA)"
   ]
  },
  {
   "cell_type": "markdown",
   "metadata": {},
   "source": [
    "# Rough work"
   ]
  },
  {
   "cell_type": "code",
   "execution_count": 6,
   "metadata": {},
   "outputs": [
    {
     "name": "stdout",
     "output_type": "stream",
     "text": [
      "=== ISS Solar Power System Analysis ===\n",
      "\n",
      "1. ORIGINAL SOLAR ARRAY WINGS (SAWs)\n",
      "=====================================\n",
      "SAW dimensions: 35m × 12m = 420 m²\n",
      "SAW power: 31.0 kW\n",
      "Total power density: 73.8 W/m²\n",
      "Active cell area: 209.9 m²\n",
      "Active cell power density: 147.7 W/m²\n",
      "Packing factor: 50.0%\n",
      "\n",
      "2. iROSA (ISS ROLL-OUT SOLAR ARRAY)\n",
      "===================================\n",
      "iROSA dimensions: 19m × 6m = 114 m²\n",
      "iROSA power: 28.0 kW\n",
      "iROSA power density: 245.6 W/m²\n",
      "\n",
      "Comparison:\n",
      "iROSA is 3.7x smaller in area than SAW\n",
      "iROSA power density is 3.3x higher than SAW total\n",
      "iROSA power density is 1.7x higher than SAW active cells\n",
      "\n",
      "3. REPLACEMENT STRATEGY\n",
      "=======================\n",
      "• iROSA did NOT replace SAWs\n",
      "• iROSA units are installed IN FRONT OF existing SAWs\n",
      "• 6 iROSA units augment (don't replace) the 8 original SAWs\n",
      "• Existing SAWs continue operating where not shaded by iROSA\n",
      "• This provides ~30% power increase overall\n",
      "\n",
      "Total power comparison:\n",
      "Original 8 SAWs: 248 kW\n",
      "6 iROSAs + unshaded SAWs: 263 kW\n",
      "Power increase: 6%\n"
     ]
    }
   ],
   "source": [
    "print(\"=== ISS Solar Power System Analysis ===\\n\")\n",
    "\n",
    "# Your SAW analysis (corrected)\n",
    "print(\"1. ORIGINAL SOLAR ARRAY WINGS (SAWs)\")\n",
    "print(\"=====================================\")\n",
    "saw_length = 35  # meters (from search results: actually 35m, not 34m)\n",
    "saw_width = 12   # meters\n",
    "saw_power = 31000  # watts (31 kW per your quote)\n",
    "saw_area = saw_length * saw_width\n",
    "\n",
    "cells_per_blanket = 16400\n",
    "blankets_per_wing = 2\n",
    "total_cells_per_wing = cells_per_blanket * blankets_per_wing\n",
    "cell_size = 0.08  # 8cm\n",
    "cell_area = cell_size * cell_size\n",
    "total_active_cell_area = total_cells_per_wing * cell_area\n",
    "\n",
    "print(f\"SAW dimensions: {saw_length}m × {saw_width}m = {saw_area} m²\")\n",
    "print(f\"SAW power: {saw_power/1000} kW\")\n",
    "print(f\"Total power density: {saw_power/saw_area:.1f} W/m²\")\n",
    "print(f\"Active cell area: {total_active_cell_area:.1f} m²\")\n",
    "print(f\"Active cell power density: {saw_power/total_active_cell_area:.1f} W/m²\")\n",
    "print(f\"Packing factor: {total_active_cell_area/saw_area:.1%}\\n\")\n",
    "\n",
    "# iROSA analysis\n",
    "print(\"2. iROSA (ISS ROLL-OUT SOLAR ARRAY)\")\n",
    "print(\"===================================\")\n",
    "irosa_length = 19   # meters (63 feet)\n",
    "irosa_width = 6     # meters (20 feet) \n",
    "irosa_power = 28000 # watts (>28 kW from search results)\n",
    "irosa_area = irosa_length * irosa_width\n",
    "\n",
    "print(f\"iROSA dimensions: {irosa_length}m × {irosa_width}m = {irosa_area} m²\")\n",
    "print(f\"iROSA power: {irosa_power/1000} kW\")\n",
    "print(f\"iROSA power density: {irosa_power/irosa_area:.1f} W/m²\")\n",
    "\n",
    "print(f\"\\nComparison:\")\n",
    "print(f\"iROSA is {saw_area/irosa_area:.1f}x smaller in area than SAW\")\n",
    "print(f\"iROSA power density is {(irosa_power/irosa_area)/(saw_power/saw_area):.1f}x higher than SAW total\")\n",
    "print(f\"iROSA power density is {(irosa_power/irosa_area)/(saw_power/total_active_cell_area):.1f}x higher than SAW active cells\")\n",
    "\n",
    "# System overview\n",
    "print(f\"\\n3. REPLACEMENT STRATEGY\")\n",
    "print(\"=======================\")\n",
    "print(\"• iROSA did NOT replace SAWs\")\n",
    "print(\"• iROSA units are installed IN FRONT OF existing SAWs\")\n",
    "print(\"• 6 iROSA units augment (don't replace) the 8 original SAWs\") \n",
    "print(\"• Existing SAWs continue operating where not shaded by iROSA\")\n",
    "print(\"• This provides ~30% power increase overall\")\n",
    "\n",
    "# Power calculation\n",
    "original_total_power = 8 * saw_power  # 8 SAWs\n",
    "irosa_total_power = 6 * irosa_power   # 6 iROSAs\n",
    "unshaded_saw_power = 95000  # From search: about 95kW from unshaded portions\n",
    "\n",
    "print(f\"\\nTotal power comparison:\")\n",
    "print(f\"Original 8 SAWs: {original_total_power/1000:.0f} kW\")\n",
    "print(f\"6 iROSAs + unshaded SAWs: {(irosa_total_power + unshaded_saw_power)/1000:.0f} kW\")\n",
    "print(f\"Power increase: {((irosa_total_power + unshaded_saw_power)/original_total_power - 1)*100:.0f}%\")"
   ]
  },
  {
   "cell_type": "code",
   "execution_count": 8,
   "metadata": {},
   "outputs": [],
   "source": []
  },
  {
   "cell_type": "code",
   "execution_count": null,
   "metadata": {},
   "outputs": [],
   "source": []
  },
  {
   "cell_type": "code",
   "execution_count": null,
   "metadata": {},
   "outputs": [],
   "source": []
  }
 ],
 "metadata": {
  "kernelspec": {
   "display_name": "Python 3",
   "language": "python",
   "name": "python3"
  },
  "language_info": {
   "name": "python",
   "version": "3.9"
  }
 },
 "nbformat": 4,
 "nbformat_minor": 2
}
