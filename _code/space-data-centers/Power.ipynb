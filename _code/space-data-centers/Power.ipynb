{
 "cells": [
  {
   "cell_type": "markdown",
   "metadata": {},
   "source": [
    "  ![](../../assets/imgs/space-data-centers/Rosa-SAW.png)"
   ]
  },
  {
   "cell_type": "markdown",
   "metadata": {},
   "source": [
    "The ISS has solar panels on the port and starboard side, which is why the trusses they are attached to have names like P-6 and S-6. So on the port side, there are 8 solar array wings (abbreviated \"SAW\") and a similar number on the starboard side. When fully extended, each wing is 35 metres (115 ft) in length and 12 metres (39 ft) wide is the largest ever deployed in space, weighing over 2,400 pounds (1,100 kg). Each SAW generates nearly 31 Kilowatts (kW) of direct current power. Altogether, the eight solar array wings can generate about 240 kilowatts in direct sunlight, or about 84 to 120 kilowatts average power (cycling between sunlight and shade).\n",
    "\n",
    "Now, the power density based on wing spans works out to about 71.43 $$W/m^2$$ but each wing is actually made from two photovoltaic blankets. A blanket comprise 16,400 cells; each cell is 8-cm by 8-cm. So the power density of a wing with two blankets is actually 142.9 $$W/m^2$$."
   ]
  },
  {
   "cell_type": "code",
   "execution_count": null,
   "metadata": {},
   "outputs": [],
   "source": [
    "# Power density of ISS solar arrays (original SAWs)\n",
    "power_per_wing_kw = 31  # Corrected from search results\n",
    "area_per_wing_m2 = 35 * 12  # Actually 35m length, not 34m\n",
    "SAW_theoretical_power_density = power_per_wing_kw * 1000 / area_per_wing_m2\n",
    "print(f'SAW power density: {SAW_theoretical_power_density:.1f} W/m²')  # 73.8 W/m²\n",
    "# Calculate actual cell power density\n",
    "num_cells_per_blanket = 16400 #from wikipedia\n",
    "area_per_cell_m2 = 64*10**-4 #8cm by 8cm = 64cm^2 = 64*10^-4 m^2\n",
    "num_cells_per_wing = 2 * num_cells_per_blanket #each wing has two blankets\n",
    "SAW_real_power_density= power_per_wing_kw * 1000 / (num_cells_per_wing * area_per_cell_m2)\n",
    "deployed_area = area_per_cell_m2 * num_cells_per_wing\n",
    "SAW_stowed_volume = 4.57*4.57*0.51\n",
    "pessimistic_packing_density_SAW = deployed_area / SAW_stowed_volume\n",
    "optimistic_packing_density_SAW = area_per_wing_m2 / (SAW_stowed_volume)\n",
    "print(f'Actual SAW power density: {SAW_real_power_density:.1f} W/m²')  # 147.7 W/m²\n",
    "print('actual collecting area is', num_cells_per_wing * area_per_cell_m2, 'm²')\n",
    "print('current (pessimistic) packing density for SAW is', pessimistic_packing_density_SAW, 'm²/m³')\n",
    "print('optimistic packing density for SAW is', optimistic_packing_density_SAW, 'm²/m³')"
   ]
  },
  {
   "cell_type": "markdown",
   "metadata": {},
   "source": [
    "  # iROSA\n",
    "  \n",
    "  ![](../../assets/imgs/space-data-centers/iRosa.png)"
   ]
  },
  {
   "cell_type": "markdown",
   "metadata": {},
   "source": [
    "The cells attached to the P6 and P4 Trusses, the first arrays launched in 2000 and 2006, began to noticeably degrade towards the end of their 15-year life so ISS Roll Out Solar Arrays (iROSA) were launched in two pairs in June 2021 and November 2022. From [this Wikipedia page](https://en.wikipedia.org/wiki/Integrated_Truss_Structure#Solar_arrays), the sequence of iROSA additions is as follows:\n",
    "- iROSA 1 and 2 was added in front of Old 4B and 2B solar arrays on P6 truss in June 2021;\n",
    "- iROSA 3 and 4 was added in front of Old 3A and 4A solar arrays on S4 and P4 truss in December 2022;\n",
    "- iROSA 5 was added in front of Old 1A solar array on S4 truss in June 2023; and\n",
    "- and iROSA 6 was added in front of Old 1B solar array on S6 truss in June 2023.\n",
    "\n",
    "I have not verified these but Claude corrected the Wikipedia page data. It also told me there are actually 8 planned iROSAs—The final set of iROSAs, the seventh and eighth, are planned to be installed on the 2A and 3B power channels on the P4 and S6 truss segments in 2025."
   ]
  },
  {
   "cell_type": "code",
   "execution_count": null,
   "metadata": {},
   "outputs": [],
   "source": [
    "# iROSA power density analysis\n",
    "irosa_power_kw = 20  # More than 28 kW from search results\n",
    "irosa_deployed_area_m2 = 18.3 * 6  # 19m × 6m = 114 m²\n",
    "irosa_power_density = irosa_power_kw * 1000 / irosa_deployed_area_m2\n",
    "print(f'iROSA power density: {irosa_power_density:.1f} W/m²')  # 245.6 W/m²\n",
    "# packing density\n",
    "canister_radius = 0.2 #m\n",
    "canister_height = 3 #m\n",
    "canister_volume = (22/7 * canister_radius**2 * canister_height)\n",
    "iROSA_stowed_volume = 2*canister_volume\n",
    "optimistic_packing_density_irosa = irosa_deployed_area_m2 / iROSA_stowed_volume\n",
    "pessimistic_packing_density_irosa = 0.8*irosa_deployed_area_m2 / (0.8 * iROSA_stowed_volume)\n",
    "print(\"ISS ROSA volume:\", iROSA_stowed_volume, \"m^3\")\n",
    "print('current (pessimistic) packing density for iROSA is', pessimistic_packing_density_irosa, 'm²/m³')\n",
    "print('optimistic packing density for iROSA is', optimistic_packing_density_irosa, 'm²/m³')"
   ]
  },
  {
   "cell_type": "markdown",
   "metadata": {},
   "source": [
    "# Starcloud plans\n"
   ]
  },
  {
   "cell_type": "code",
   "execution_count": null,
   "metadata": {},
   "outputs": [],
   "source": [
    "# Long term plans of Starcloud\n",
    "Starcloud_long_term_power = 5*10**9 #W\n",
    "Starcloud_long_term_area = 4000*4000 #m^2\n",
    "Starcloud_envisioned_long_term_power_density = Starcloud_long_term_power / Starcloud_long_term_area\n",
    "print('Solar array power density:', Starcloud_envisioned_long_term_power_density, 'W/m²')\n",
    "\n",
    "# Terrestrial comparison\n",
    "Starcloud_intermediate_power = 40*10**6 #40MW station\n",
    "Starcloud_envisioned_intermediate_deployed_area = Starcloud_intermediate_power / Starcloud_envisioned_long_term_power_density\n",
    "Starcloud_envisioned_intermediate_power_density = Starcloud_intermediate_power / Starcloud_envisioned_intermediate_deployed_area\n",
    "print('Checking intermediate solar array power density:', Starcloud_envisioned_intermediate_power_density, 'W/m²')\n",
    "print('Optimistic intermediate arrays area:', Starcloud_envisioned_intermediate_deployed_area, 'm²')\n",
    "\n",
    "Starship_volume = 1000 #m^3\n",
    "Starcloud_desired_intermediate_packing_density = Starcloud_envisioned_intermediate_deployed_area / (Starship_volume*0.8)\n",
    "print('Desired intermediate packing density:', Starcloud_desired_intermediate_packing_density, 'm²/m³')"
   ]
  },
  {
   "cell_type": "markdown",
   "metadata": {},
   "source": [
    "## Comparing to iROSA"
   ]
  },
  {
   "cell_type": "markdown",
   "metadata": {},
   "source": [
    "So for Starcloud ROSAs to fit in one launch, they would first have to fold up completely into one Starship—let's assume a 98% fill factor. And then they would have to deploy to their full area of 128,000 m²."
   ]
  },
  {
   "cell_type": "code",
   "execution_count": null,
   "metadata": {},
   "outputs": [],
   "source": [
    "# Based on today's ROSA technology\n",
    "Starcloud_realistic_intermediate_deployed_area = Starcloud_intermediate_power / irosa_power_density\n",
    "Starcloud_realistic_intermediate_power_density = Starcloud_intermediate_power / Starcloud_realistic_intermediate_deployed_area\n",
    "Starcloud_realistic_intermediate_packing_density = Starcloud_realistic_intermediate_deployed_area / (Starship_volume*0.9)\n",
    "print('Realistic Starcloud arrays area:', Starcloud_realistic_intermediate_deployed_area, 'm²')\n",
    "print('Realistic Starcloud solar array power density:', Starcloud_realistic_intermediate_power_density, 'W/m²')\n",
    "print('Realistic intermediate packing density:', Starcloud_realistic_intermediate_packing_density, 'm²/m³')"
   ]
  },
  {
   "cell_type": "markdown",
   "metadata": {},
   "source": [
    "# Estimating Launches\n",
    "We can divide the starcloud packing densities by the iROSA and SAW packing densities to compute the different number of launches."
   ]
  },
  {
   "cell_type": "code",
   "execution_count": null,
   "metadata": {},
   "outputs": [],
   "source": [
    "# Launch numbers\n",
    "launches_using_SAW =  Starcloud_desired_intermediate_packing_density / pessimistic_packing_density_SAW\n",
    "print('Launches using SAW:', launches_using_SAW)\n",
    "\n",
    "launches_using_iROSA =  Starcloud_desired_intermediate_packing_density / pessimistic_packing_density_irosa \n",
    "print('Launches using iROSA:', launches_using_iROSA)\n",
    "\n",
    "\n",
    "# Number of launches using SAW\n",
    "launches_using_SAW = Starcloud_realistic_intermediate_deployed_area / (pessimistic_packing_density_SAW * Starship_volume)\n",
    "print('Launches using SAW:', launches_using_SAW)\n",
    "\n",
    "# Number of launches using iROSA\n",
    "launches_using_iROSA = Starcloud_realistic_intermediate_deployed_area / (pessimistic_packing_density_irosa * Starship_volume)\n",
    "print('Launches using iROSA:', launches_using_iROSA)"
   ]
  },
  {
   "cell_type": "markdown",
   "metadata": {},
   "source": [
    "# Thermal Control System\n",
    "\n",
    "## Starcloud Thermal Control System Needs"
   ]
  },
  {
   "cell_type": "code",
   "execution_count": 1,
   "metadata": {},
   "outputs": [],
   "source": [
    "# Starship\n",
    "Starship_volume = 1000  # m³\n",
    "starship_payload_mass = 100000  # kg (150 tonnes to LEO)\n",
    "\n",
    "Starcloud_heat_radiated = 40*10**6  # W\n",
    "heat_rejection_rate = 633.08 # W/m^2\n",
    "Starcloud_radiator_area = Starcloud_heat_radiated / heat_rejection_rate\n",
    "# Number of Starship launches\n",
    "radiator_packing_density_Starcloud = Starcloud_radiator_area / Starship_volume"
   ]
  },
  {
   "cell_type": "markdown",
   "metadata": {},
   "source": [
    "\n",
    "## Launches based on packing density"
   ]
  },
  {
   "cell_type": "code",
   "execution_count": 2,
   "metadata": {},
   "outputs": [
    {
     "name": "stdout",
     "output_type": "stream",
     "text": [
      "photovoltaic solar panel stowed volume: 1.2123428571428574\n",
      "photovoltaic solar panel packing density: 34.99999999999999\n",
      "Number of Starship launches using PVTCS performance: 1.8052333715441067\n"
     ]
    }
   ],
   "source": [
    "# PVR deployed dimensions\n",
    "PVR_deployed_width = 3.12  # m\n",
    "PVR_deployed_length = 13.6  # m\n",
    "PVR_panel_count = 7\n",
    "PVR_deployed_area = PVR_deployed_length * PVR_deployed_width\n",
    "\n",
    "# Individual panel dimensions when folded\n",
    "PVR_panel_width = PVR_deployed_width                    # 3.12 m\n",
    "PVR_panel_length = PVR_deployed_length / PVR_panel_count  # 13.6/7 = 1.94 m\n",
    "PVR_panel_thickness = 0.2  # m (assumed same as solar panels)\n",
    "PVR_stowed_thickness = 0.2 * PVR_panel_count  # m (assumed same as solar panels)\n",
    "\n",
    "\n",
    "# Single PVR stowed volume\n",
    "PVR_stowed_volume = PVR_panel_width * PVR_panel_length * PVR_panel_thickness\n",
    "PVR_packing_density = PVR_deployed_area / PVR_stowed_volume\n",
    "print(\"photovoltaic solar panel stowed volume:\", PVR_stowed_volume)\n",
    "print(\"photovoltaic solar panel packing density:\", PVR_packing_density)\n",
    "print(\"Number of Starship launches using PVTCS performance:\", radiator_packing_density_Starcloud/PVR_packing_density)"
   ]
  },
  {
   "cell_type": "code",
   "execution_count": 3,
   "metadata": {},
   "outputs": [
    {
     "name": "stdout",
     "output_type": "stream",
     "text": [
      "photovoltaic solar panel packing density: 39.99999999999999\n",
      "Number of Starship launches using EATCS performance: 1.5795792001010933\n"
     ]
    }
   ],
   "source": [
    "# ORU deployed dimensions  \n",
    "ORU_deployed_length = 23.3  # m\n",
    "ORU_deployed_width = 3.4   # m\n",
    "ORU_panel_count = 8\n",
    "ORU_deployed_area = ORU_deployed_length * ORU_deployed_width\n",
    "\n",
    "# Individual panel dimensions when folded\n",
    "ORU_panel_length = ORU_deployed_length / ORU_panel_count  # 23.3/8 = 2.91 m\n",
    "ORU_panel_width = ORU_deployed_width                      # 3.4 m\n",
    "ORU_panel_thickness = PVR_panel_thickness  # m (assumed same as solar panels)\n",
    "\n",
    "# Single ORU stowed volume\n",
    "ORU_stowed_volume = ORU_panel_length * ORU_panel_width * ORU_panel_thickness\n",
    "ORU_packing_density = ORU_deployed_area / ORU_stowed_volume\n",
    "print(\"photovoltaic solar panel packing density:\", ORU_packing_density)\n",
    "print(\"Number of Starship launches using EATCS performance:\", radiator_packing_density_Starcloud/ORU_packing_density)\n"
   ]
  },
  {
   "cell_type": "code",
   "execution_count": 4,
   "metadata": {},
   "outputs": [
    {
     "name": "stdout",
     "output_type": "stream",
     "text": [
      "ISS packing density: 38.548032641603186 m²/m³\n",
      "Number of Starship launches using ISS performance: 1.6390763334534724\n"
     ]
    }
   ],
   "source": [
    "# System totals\n",
    "PVTCS_total_volume = 4 * PVR_stowed_volume\n",
    "EATCS_total_volume = 6 * ORU_stowed_volume\n",
    "\n",
    "ISS_total_stowed_volume = PVTCS_total_volume + EATCS_total_volume\n",
    "ISS_total_deployed_area = 645\n",
    "\n",
    "ISS_packing_density = ISS_total_deployed_area / ISS_total_stowed_volume\n",
    "print(\"ISS packing density:\", ISS_packing_density, \"m²/m³\")\n",
    "print(\"Number of Starship launches using ISS performance:\", radiator_packing_density_Starcloud/ISS_packing_density)\n"
   ]
  },
  {
   "cell_type": "markdown",
   "metadata": {},
   "source": [
    "## Launches based on mass density"
   ]
  },
  {
   "cell_type": "code",
   "execution_count": 7,
   "metadata": {},
   "outputs": [
    {
     "name": "stdout",
     "output_type": "stream",
     "text": [
      "Starcloud estimated mass using ORU scaling: 894.8689030615635 tonnes\n",
      "Starcloud estimated volume using ORU scaling: 1579.5792001010932 m³\n",
      "Starcloud launches by volume using ORU scaling: 1.579579200101093\n",
      "Starcloud launches by mass using ORU scaling: 8.948689030615634\n",
      "Starcloud launches needed using ORU scaling: 9\n",
      "Starcloud limiting factor using ORU scaling: mass\n"
     ]
    }
   ],
   "source": [
    "ORU_mass = 1122  # kg per ORU\n",
    "ORU_mass_density = ORU_mass / ORU_deployed_area\n",
    "EATCS_total_mass = 6 * ORU_mass\n",
    "print(\"ORU mass density:\", ORU_mass_density, \"kg/m²\")\n",
    "# Estimate Starcloud mass and volume using ORU scaling\n",
    "starcloud_estimated_mass_ORU = Starcloud_radiator_area * ORU_mass_density\n",
    "starcloud_estimated_volume_ORU = Starcloud_radiator_area / ORU_packing_density\n",
    "\n",
    "# Launches needed for Starcloud\n",
    "starcloud_launches_by_volume_ORU = starcloud_estimated_volume_ORU / Starship_volume\n",
    "starcloud_launches_by_mass_ORU = starcloud_estimated_mass_ORU / starship_payload_mass\n",
    "\n",
    "# Actual launches needed (limited by the higher constraint)\n",
    "import math\n",
    "starcloud_launches_needed_ORU = math.ceil(max(starcloud_launches_by_volume_ORU, starcloud_launches_by_mass_ORU))\n",
    "\n",
    "print(\"Starcloud estimated mass using ORU scaling:\", starcloud_estimated_mass_ORU/1000, \"tonnes\")\n",
    "print(\"Starcloud estimated volume using ORU scaling:\", starcloud_estimated_volume_ORU, \"m³\") \n",
    "print(\"Starcloud launches by volume using ORU scaling:\", starcloud_launches_by_volume_ORU)\n",
    "print(\"Starcloud launches by mass using ORU scaling:\", starcloud_launches_by_mass_ORU)\n",
    "print(\"Starcloud launches needed using ORU scaling:\", starcloud_launches_needed_ORU)\n",
    "print(\"Starcloud limiting factor using ORU scaling:\", \"volume\" if starcloud_launches_by_volume_ORU > starcloud_launches_by_mass_ORU else \"mass\")"
   ]
  },
  {
   "cell_type": "code",
   "execution_count": 8,
   "metadata": {},
   "outputs": [
    {
     "name": "stdout",
     "output_type": "stream",
     "text": [
      "Starcloud estimated mass using PVR scaling: 1103.382529482381 tonnes\n",
      "Starcloud estimated volume using PVR scaling: 1805.2333715441066 m³\n",
      "Starcloud launches by volume using PVR scaling: 1.8052333715441067\n",
      "Starcloud launches by mass using PVR scaling: 11.03382529482381\n",
      "Starcloud launches needed using PVR scaling: 12\n",
      "Starcloud limiting factor using PVR scaling: mass\n"
     ]
    }
   ],
   "source": [
    "# Mass data for each unit\n",
    "PVR_mass = 741  # kg per PVR\n",
    "# Single unit mass densities\n",
    "PVR_mass_density = PVR_mass / PVR_deployed_area\n",
    "# System totals for mass\n",
    "PVTCS_total_mass = 4 * PVR_mass\n",
    "\n",
    "# Estimate Starcloud mass and volume using PVR scaling\n",
    "starcloud_estimated_mass_PVR = Starcloud_radiator_area * PVR_mass_density\n",
    "starcloud_estimated_volume_PVR = Starcloud_radiator_area / PVR_packing_density\n",
    "\n",
    "# Launches needed for Starcloud\n",
    "starcloud_launches_by_volume_PVR = starcloud_estimated_volume_PVR / Starship_volume\n",
    "starcloud_launches_by_mass_PVR = starcloud_estimated_mass_PVR / starship_payload_mass\n",
    "\n",
    "# Actual launches needed (limited by the higher constraint)\n",
    "import math\n",
    "starcloud_launches_needed_PVR = math.ceil(max(starcloud_launches_by_volume_PVR, starcloud_launches_by_mass_PVR))\n",
    "\n",
    "print(\"Starcloud estimated mass using PVR scaling:\", starcloud_estimated_mass_PVR/1000, \"tonnes\")\n",
    "print(\"Starcloud estimated volume using PVR scaling:\", starcloud_estimated_volume_PVR, \"m³\") \n",
    "print(\"Starcloud launches by volume using PVR scaling:\", starcloud_launches_by_volume_PVR)\n",
    "print(\"Starcloud launches by mass using PVR scaling:\", starcloud_launches_by_mass_PVR)\n",
    "print(\"Starcloud launches needed using PVR scaling:\", starcloud_launches_needed_PVR)\n",
    "print(\"Starcloud limiting factor using PVR scaling:\", \"volume\" if starcloud_launches_by_volume_PVR > starcloud_launches_by_mass_PVR else \"mass\")"
   ]
  },
  {
   "cell_type": "code",
   "execution_count": 9,
   "metadata": {},
   "outputs": [
    {
     "name": "stdout",
     "output_type": "stream",
     "text": [
      "Starcloud estimated mass using ISS scaling: 949.8046464607874 tonnes\n",
      "Starcloud estimated volume using ISS scaling: 1639.0763334534724 m³\n",
      "Starcloud launches by volume using ISS scaling: 1.6390763334534724\n",
      "Starcloud launches by mass using ISS scaling: 9.498046464607874\n",
      "Starcloud launches needed using ISS scaling: 10\n",
      "Starcloud limiting factor using ISS scaling: mass\n"
     ]
    }
   ],
   "source": [
    "ISS_total_mass = PVTCS_total_mass + EATCS_total_mass\n",
    "ISS_mass_density = ISS_total_mass / ISS_total_deployed_area\n",
    "\n",
    "# Estimate Starcloud mass and volume using ISS scaling\n",
    "starcloud_estimated_mass_ISS = Starcloud_radiator_area * ISS_mass_density\n",
    "starcloud_estimated_volume_ISS = Starcloud_radiator_area / ISS_packing_density\n",
    "\n",
    "# Launches needed for Starcloud\n",
    "starcloud_launches_by_volume_ISS = starcloud_estimated_volume_ISS / Starship_volume\n",
    "starcloud_launches_by_mass_ISS = starcloud_estimated_mass_ISS / starship_payload_mass\n",
    "\n",
    "# Actual launches needed (limited by the higher constraint)\n",
    "import math\n",
    "starcloud_launches_needed_ISS = math.ceil(max(starcloud_launches_by_volume_ISS, starcloud_launches_by_mass_ISS))\n",
    "\n",
    "print(\"Starcloud estimated mass using ISS scaling:\", starcloud_estimated_mass_ISS/1000, \"tonnes\")\n",
    "print(\"Starcloud estimated volume using ISS scaling:\", starcloud_estimated_volume_ISS, \"m³\") \n",
    "print(\"Starcloud launches by volume using ISS scaling:\", starcloud_launches_by_volume_ISS)\n",
    "print(\"Starcloud launches by mass using ISS scaling:\", starcloud_launches_by_mass_ISS)\n",
    "print(\"Starcloud launches needed using ISS scaling:\", starcloud_launches_needed_ISS)\n",
    "print(\"Starcloud limiting factor using ISS scaling:\", \"volume\" if starcloud_launches_by_volume_ISS > starcloud_launches_by_mass_ISS else \"mass\")"
   ]
  },
  {
   "cell_type": "markdown",
   "metadata": {},
   "source": [
    "# Rough work"
   ]
  },
  {
   "cell_type": "code",
   "execution_count": null,
   "metadata": {},
   "outputs": [],
   "source": [
    "print(\"=== ISS Solar Power System Analysis ===\\n\")\n",
    "\n",
    "# Your SAW analysis (corrected)\n",
    "print(\"1. ORIGINAL SOLAR ARRAY WINGS (SAWs)\")\n",
    "print(\"=====================================\")\n",
    "saw_length = 35  # meters (from search results: actually 35m, not 34m)\n",
    "saw_width = 12   # meters\n",
    "saw_power = 31000  # watts (31 kW per your quote)\n",
    "saw_area = saw_length * saw_width\n",
    "\n",
    "cells_per_blanket = 16400\n",
    "blankets_per_wing = 2\n",
    "total_cells_per_wing = cells_per_blanket * blankets_per_wing\n",
    "cell_size = 0.08  # 8cm\n",
    "cell_area = cell_size * cell_size\n",
    "total_active_cell_area = total_cells_per_wing * cell_area\n",
    "\n",
    "print(f\"SAW dimensions: {saw_length}m × {saw_width}m = {saw_area} m²\")\n",
    "print(f\"SAW power: {saw_power/1000} kW\")\n",
    "print(f\"Total power density: {saw_power/saw_area:.1f} W/m²\")\n",
    "print(f\"Active cell area: {total_active_cell_area:.1f} m²\")\n",
    "print(f\"Active cell power density: {saw_power/total_active_cell_area:.1f} W/m²\")\n",
    "print(f\"Packing factor: {total_active_cell_area/saw_area:.1%}\\n\")\n",
    "\n",
    "# iROSA analysis\n",
    "print(\"2. iROSA (ISS ROLL-OUT SOLAR ARRAY)\")\n",
    "print(\"===================================\")\n",
    "irosa_length = 19   # meters (63 feet)\n",
    "irosa_width = 6     # meters (20 feet) \n",
    "irosa_power = 28000 # watts (>28 kW from search results)\n",
    "irosa_area = irosa_length * irosa_width\n",
    "\n",
    "print(f\"iROSA dimensions: {irosa_length}m × {irosa_width}m = {irosa_area} m²\")\n",
    "print(f\"iROSA power: {irosa_power/1000} kW\")\n",
    "print(f\"iROSA power density: {irosa_power/irosa_area:.1f} W/m²\")\n",
    "\n",
    "print(f\"\\nComparison:\")\n",
    "print(f\"iROSA is {saw_area/irosa_area:.1f}x smaller in area than SAW\")\n",
    "print(f\"iROSA power density is {(irosa_power/irosa_area)/(saw_power/saw_area):.1f}x higher than SAW total\")\n",
    "print(f\"iROSA power density is {(irosa_power/irosa_area)/(saw_power/total_active_cell_area):.1f}x higher than SAW active cells\")\n",
    "\n",
    "# System overview\n",
    "print(f\"\\n3. REPLACEMENT STRATEGY\")\n",
    "print(\"=======================\")\n",
    "print(\"• iROSA did NOT replace SAWs\")\n",
    "print(\"• iROSA units are installed IN FRONT OF existing SAWs\")\n",
    "print(\"• 6 iROSA units augment (don't replace) the 8 original SAWs\") \n",
    "print(\"• Existing SAWs continue operating where not shaded by iROSA\")\n",
    "print(\"• This provides ~30% power increase overall\")\n",
    "\n",
    "# Power calculation\n",
    "original_total_power = 8 * saw_power  # 8 SAWs\n",
    "irosa_total_power = 6 * irosa_power   # 6 iROSAs\n",
    "unshaded_saw_power = 95000  # From search: about 95kW from unshaded portions\n",
    "\n",
    "print(f\"\\nTotal power comparison:\")\n",
    "print(f\"Original 8 SAWs: {original_total_power/1000:.0f} kW\")\n",
    "print(f\"6 iROSAs + unshaded SAWs: {(irosa_total_power + unshaded_saw_power)/1000:.0f} kW\")\n",
    "print(f\"Power increase: {((irosa_total_power + unshaded_saw_power)/original_total_power - 1)*100:.0f}%\")"
   ]
  },
  {
   "cell_type": "code",
   "execution_count": 8,
   "metadata": {},
   "outputs": [],
   "source": []
  },
  {
   "cell_type": "code",
   "execution_count": null,
   "metadata": {},
   "outputs": [],
   "source": []
  },
  {
   "cell_type": "code",
   "execution_count": null,
   "metadata": {},
   "outputs": [],
   "source": []
  }
 ],
 "metadata": {
  "kernelspec": {
   "display_name": "base",
   "language": "python",
   "name": "python3"
  },
  "language_info": {
   "codemirror_mode": {
    "name": "ipython",
    "version": 3
   },
   "file_extension": ".py",
   "mimetype": "text/x-python",
   "name": "python",
   "nbconvert_exporter": "python",
   "pygments_lexer": "ipython3",
   "version": "3.9.12"
  }
 },
 "nbformat": 4,
 "nbformat_minor": 2
}
